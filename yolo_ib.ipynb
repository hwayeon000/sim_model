{
 "cells": [
  {
   "cell_type": "code",
   "execution_count": 64,
   "metadata": {},
   "outputs": [],
   "source": [
    "# !Download YOLOv7 code\n",
    "# !git clone https://github.com/WongKinYiu/yolov7\n",
    "\n",
    "# %cd yolov7\n",
    "# !ls\n",
    "\n",
    "# !Download trained weights\n",
    "# !wget https://github.com/WongKinYiu/yolov7/releases/download/v0.1/yolov7.pt"
   ]
  },
  {
   "cell_type": "code",
   "execution_count": 65,
   "metadata": {},
   "outputs": [],
   "source": [
    "# !pip install -r requirements.txt"
   ]
  },
  {
   "cell_type": "code",
   "execution_count": 66,
   "metadata": {},
   "outputs": [],
   "source": [
    "# zip 파일 열기\n",
    "# !unzip -O cp949 TL_집.zip\n",
    "# import zipfile\n",
    "      \n",
    "# fantasy_zip = zipfile.ZipFile('C:\\\\Users\\\\SMHRD\\\\Desktop\\\\workspace\\\\test2db\\\\data_h_hub\\\\Training\\\\02.라벨링데이터\\\\TL_집\\\\TL_집.zip')\n",
    "# fantasy_zip.extractall('C:\\\\Users\\\\SMHRD\\\\Desktop\\\\workspace\\\\test2db\\\\data_h_hub\\\\Training\\\\02.라벨링데이터\\\\TL_집')\n",
    "# fantasy_zip.close()\n",
    "\n",
    "# fantasy_zip = zipfile.ZipFile('C:\\\\Users\\\\SMHRD\\\\Desktop\\\\workspace\\\\test2db\\\\data_h_hub\\\\Validation\\\\02.라벨링데이터\\\\VL_집\\\\VL_집.zip')\n",
    "# fantasy_zip.extractall('C:\\\\Users\\\\SMHRD\\\\Desktop\\\\workspace\\\\test2db\\\\data_h_hub\\\\Validation\\\\02.라벨링데이터\\\\VL_집')\n",
    "# fantasy_zip.close()"
   ]
  },
  {
   "cell_type": "code",
   "execution_count": 67,
   "metadata": {},
   "outputs": [],
   "source": [
    "# import zipfile\n",
    "      \n",
    "# fantasy_zip = zipfile.ZipFile('C:\\\\Users\\\\SMHRD\\\\Desktop\\\\workspace\\\\test2db\\\\data_h_hub\\\\Training\\\\01.원천데이터\\\\TS_집\\\\TS_집.zip')\n",
    "# fantasy_zip.extractall('C:\\\\Users\\\\SMHRD\\\\Desktop\\\\workspace\\\\test2db\\\\data_h_hub\\\\Training\\\\01.원천데이터\\\\TS_집')\n",
    "# fantasy_zip.close()\n",
    "\n",
    "\n",
    "# fantasy_zip = zipfile.ZipFile('C:\\\\Users\\\\SMHRD\\\\Desktop\\\\workspace\\\\test2db\\\\data_h_hub\\\\Validation\\\\01.원천데이터\\\\VS_집\\\\VS_집.zip')\n",
    "# fantasy_zip.extractall('C:\\\\Users\\\\SMHRD\\\\Desktop\\\\workspace\\\\test2db\\\\data_h_hub\\\\Validation\\\\01.원천데이터\\\\VS_집')\n",
    "# fantasy_zip.close()"
   ]
  },
  {
   "cell_type": "code",
   "execution_count": 68,
   "metadata": {},
   "outputs": [
    {
     "name": "stdout",
     "output_type": "stream",
     "text": [
      "안녕\n"
     ]
    }
   ],
   "source": [
    "print(\"안녕\")"
   ]
  },
  {
   "cell_type": "code",
   "execution_count": null,
   "metadata": {},
   "outputs": [],
   "source": []
  },
  {
   "cell_type": "code",
   "execution_count": 69,
   "metadata": {},
   "outputs": [
    {
     "name": "stdout",
     "output_type": "stream",
     "text": [
      "14\n",
      "1 house, 1 window, Done. (13.0ms) Inference, (4.0ms) NMS\n"
     ]
    }
   ],
   "source": [
    "aa=\"Namespace(weights=['./best.pt'], source='./images/test.jpg', img_size=640, conf_thres=0.6, iou_thres=0.45, device='', view_img=False, save_txt=False, save_conf=False, nosave=False, classes=None, agnostic_nms=False, augment=False, update=False, project='runs/detect', name='exp', exist_ok=False, no_trace=False)\\nFusing layers... \\nRepConv.fuse_repvgg_block\\nRepConv.fuse_repvgg_block\\nRepConv.fuse_repvgg_block\\nIDetect.fuse\\n Convert model to Traced-model... \\n traced_script_module saved! \\n model is traced! \\n\\n1 house, 1 window, Done. (13.0ms) Inference, (4.0ms) NMS\\n The image with the result is saved in: runs\\\\detect\\\\exp8\\\\test.jpg\\nDone. (0.191s)\\n\"\n",
    "\n",
    "alist = aa.split(\"\\n\")\n",
    "\n",
    "print(len(alist))\n",
    "print(alist[10])"
   ]
  },
  {
   "cell_type": "code",
   "execution_count": 70,
   "metadata": {},
   "outputs": [],
   "source": [
    "res2 = \"1 home,1 roof,1 wall,1 door,1 window,1 chimney,1 smoke,1 fence,1 tree,Done. (10.0ms) Inference, (5.0ms) NMS\""
   ]
  },
  {
   "cell_type": "code",
   "execution_count": 71,
   "metadata": {},
   "outputs": [
    {
     "name": "stdout",
     "output_type": "stream",
     "text": [
      "['1 door', '2 houses', '1 roof', '1 wall', '2 windows']\n",
      "[['1', 'door'], ['2', 'houses'], ['1', 'roof'], ['1', 'wall'], ['2', 'windows']]\n",
      "door,houses,roof,wall,windows;\n",
      "door,houses,roof,wall,windows;chimney,house,sun,window,smoke\n"
     ]
    }
   ],
   "source": [
    "h_robo = ['chimney', 'door', 'house', 'roof', 'sun', 'wall', 'window', 'smoke']\n",
    "\n",
    "# 데이터셋 결과 논의\n",
    "a = {\n",
    "  \"name\": \"sss2\",\n",
    "  \"description\": \"1 door,2 houses,1 roof,1 wall,2 windows,Done. (12.0ms) Inference, (4.0ms) NMS\",\n",
    "  \"resres\": \"check,\"\n",
    "}\n",
    "res = a[\"description\"]\n",
    "aa = res.split(',')[:-2]\n",
    "print(aa)\n",
    "res1=[]\n",
    "for i in aa:\n",
    "    res1.append(i.split(' '))\n",
    "print(res1)\n",
    "# resres=[]\n",
    "resres=''\n",
    "remove_set=[]\n",
    "for num,val in res1:\n",
    "    # resres.append(num)\n",
    "    # resres.append(val)\n",
    "    remove_set.append(val)\n",
    "    resres+=val+','\n",
    "\n",
    "\n",
    "resres=resres[:-1]\n",
    "resres+=';'\n",
    "print(resres)\n",
    "# res2 = []\n",
    "# res2 = resres.split(',')\n",
    "\n",
    "# 중복제거\n",
    "result = [i for i in h_robo if i not in remove_set]\n",
    "\n",
    "for i in result:\n",
    "  resres+=i+','\n",
    "\n",
    "# 마지막 , 제거\n",
    "resres=resres[:-1]\n",
    "\n",
    "print(resres)"
   ]
  },
  {
   "cell_type": "code",
   "execution_count": 61,
   "metadata": {},
   "outputs": [],
   "source": [
    "import torch\n",
    "# model = torch.hub.load('WongKinYiu/yolov7', 'custom', './hub0613best.pt', force_reload=True, trust_repo=True)"
   ]
  },
  {
   "cell_type": "code",
   "execution_count": 12,
   "metadata": {},
   "outputs": [
    {
     "name": "stdout",
     "output_type": "stream",
     "text": [
      "c:\\Users\\SMHRD\\Desktop\\workspace\\fastapi_sub\n"
     ]
    }
   ],
   "source": [
    "%cd ./fastapi_sub"
   ]
  },
  {
   "cell_type": "code",
   "execution_count": 64,
   "metadata": {},
   "outputs": [],
   "source": [
    "import torch\n",
    "# model = torch.hub.load('WongKinYiu/yolov7', 'custom', './hub0613best.pt', force_reload=True, trust_repo=True)\n",
    "# torch.save(model,'./hubtmp.pth')"
   ]
  },
  {
   "cell_type": "code",
   "execution_count": 66,
   "metadata": {},
   "outputs": [],
   "source": [
    "loaded_model = torch.load('./hubtmp.pth',map_location=torch.device('cpu'))"
   ]
  },
  {
   "cell_type": "code",
   "execution_count": 67,
   "metadata": {},
   "outputs": [],
   "source": [
    "test_img = \"./22.png\""
   ]
  },
  {
   "cell_type": "code",
   "execution_count": 68,
   "metadata": {},
   "outputs": [
    {
     "data": {
      "text/html": [
       "<div>\n",
       "<style scoped>\n",
       "    .dataframe tbody tr th:only-of-type {\n",
       "        vertical-align: middle;\n",
       "    }\n",
       "\n",
       "    .dataframe tbody tr th {\n",
       "        vertical-align: top;\n",
       "    }\n",
       "\n",
       "    .dataframe thead th {\n",
       "        text-align: right;\n",
       "    }\n",
       "</style>\n",
       "<table border=\"1\" class=\"dataframe\">\n",
       "  <thead>\n",
       "    <tr style=\"text-align: right;\">\n",
       "      <th></th>\n",
       "      <th>xmin</th>\n",
       "      <th>ymin</th>\n",
       "      <th>xmax</th>\n",
       "      <th>ymax</th>\n",
       "      <th>confidence</th>\n",
       "      <th>class</th>\n",
       "      <th>name</th>\n",
       "    </tr>\n",
       "  </thead>\n",
       "  <tbody>\n",
       "    <tr>\n",
       "      <th>0</th>\n",
       "      <td>93.774002</td>\n",
       "      <td>77.384323</td>\n",
       "      <td>400.455505</td>\n",
       "      <td>440.936401</td>\n",
       "      <td>0.970977</td>\n",
       "      <td>0</td>\n",
       "      <td>house</td>\n",
       "    </tr>\n",
       "    <tr>\n",
       "      <th>1</th>\n",
       "      <td>95.285927</td>\n",
       "      <td>107.401154</td>\n",
       "      <td>397.122589</td>\n",
       "      <td>261.150116</td>\n",
       "      <td>0.968055</td>\n",
       "      <td>1</td>\n",
       "      <td>roof</td>\n",
       "    </tr>\n",
       "    <tr>\n",
       "      <th>2</th>\n",
       "      <td>143.814682</td>\n",
       "      <td>307.622955</td>\n",
       "      <td>216.257523</td>\n",
       "      <td>430.394897</td>\n",
       "      <td>0.950111</td>\n",
       "      <td>3</td>\n",
       "      <td>door</td>\n",
       "    </tr>\n",
       "    <tr>\n",
       "      <th>3</th>\n",
       "      <td>259.583069</td>\n",
       "      <td>315.406586</td>\n",
       "      <td>340.068237</td>\n",
       "      <td>434.156891</td>\n",
       "      <td>0.946832</td>\n",
       "      <td>3</td>\n",
       "      <td>door</td>\n",
       "    </tr>\n",
       "    <tr>\n",
       "      <th>4</th>\n",
       "      <td>116.311623</td>\n",
       "      <td>221.053894</td>\n",
       "      <td>372.742676</td>\n",
       "      <td>439.209412</td>\n",
       "      <td>0.944791</td>\n",
       "      <td>2</td>\n",
       "      <td>wall</td>\n",
       "    </tr>\n",
       "    <tr>\n",
       "      <th>5</th>\n",
       "      <td>273.702942</td>\n",
       "      <td>222.406738</td>\n",
       "      <td>344.117157</td>\n",
       "      <td>284.587067</td>\n",
       "      <td>0.944757</td>\n",
       "      <td>4</td>\n",
       "      <td>window</td>\n",
       "    </tr>\n",
       "    <tr>\n",
       "      <th>6</th>\n",
       "      <td>148.558136</td>\n",
       "      <td>227.085098</td>\n",
       "      <td>218.096817</td>\n",
       "      <td>283.199158</td>\n",
       "      <td>0.943656</td>\n",
       "      <td>4</td>\n",
       "      <td>window</td>\n",
       "    </tr>\n",
       "    <tr>\n",
       "      <th>7</th>\n",
       "      <td>73.281532</td>\n",
       "      <td>397.504791</td>\n",
       "      <td>340.729126</td>\n",
       "      <td>480.461182</td>\n",
       "      <td>0.608048</td>\n",
       "      <td>13</td>\n",
       "      <td>grass</td>\n",
       "    </tr>\n",
       "    <tr>\n",
       "      <th>8</th>\n",
       "      <td>151.111954</td>\n",
       "      <td>3.598645</td>\n",
       "      <td>468.304077</td>\n",
       "      <td>92.685699</td>\n",
       "      <td>0.545375</td>\n",
       "      <td>6</td>\n",
       "      <td>smoke</td>\n",
       "    </tr>\n",
       "    <tr>\n",
       "      <th>9</th>\n",
       "      <td>145.009583</td>\n",
       "      <td>1.672044</td>\n",
       "      <td>476.011810</td>\n",
       "      <td>189.844315</td>\n",
       "      <td>0.507114</td>\n",
       "      <td>5</td>\n",
       "      <td>chimney</td>\n",
       "    </tr>\n",
       "  </tbody>\n",
       "</table>\n",
       "</div>"
      ],
      "text/plain": [
       "         xmin        ymin        xmax        ymax  confidence  class     name\n",
       "0   93.774002   77.384323  400.455505  440.936401    0.970977      0    house\n",
       "1   95.285927  107.401154  397.122589  261.150116    0.968055      1     roof\n",
       "2  143.814682  307.622955  216.257523  430.394897    0.950111      3     door\n",
       "3  259.583069  315.406586  340.068237  434.156891    0.946832      3     door\n",
       "4  116.311623  221.053894  372.742676  439.209412    0.944791      2     wall\n",
       "5  273.702942  222.406738  344.117157  284.587067    0.944757      4   window\n",
       "6  148.558136  227.085098  218.096817  283.199158    0.943656      4   window\n",
       "7   73.281532  397.504791  340.729126  480.461182    0.608048     13    grass\n",
       "8  151.111954    3.598645  468.304077   92.685699    0.545375      6    smoke\n",
       "9  145.009583    1.672044  476.011810  189.844315    0.507114      5  chimney"
      ]
     },
     "execution_count": 68,
     "metadata": {},
     "output_type": "execute_result"
    }
   ],
   "source": [
    "results = loaded_model(test_img)\n",
    "\n",
    "df = results.pandas().xyxy[0]\n",
    "df"
   ]
  },
  {
   "cell_type": "code",
   "execution_count": 56,
   "metadata": {},
   "outputs": [
    {
     "name": "stdout",
     "output_type": "stream",
     "text": [
      "['grass', 'home', 'window', 'chimney', 'roof', 'door', 'wall', 'smoke']\n",
      "11\n",
      "c_smoke\n",
      "grass,home,window,chimney,roof,door,wall,smoke,\n"
     ]
    }
   ],
   "source": [
    "res_res = set(df['name'])\n",
    "res_res = list(res_res)\n",
    "print(res_res)\n",
    "print(len(df))\n",
    "res = ''\n",
    "\n",
    "if 'chimney' and 'smoke' in res_res:\n",
    "    # res_res.remove('chimney')\n",
    "    # res_res.remove('smoke')\n",
    "    # res_res.append('c_smoke')\n",
    "    print('c_smoke')\n",
    "\n",
    "for i in range(len(res_res)):\n",
    "    res += res_res[i] + \",\"\n",
    "print(res)"
   ]
  },
  {
   "cell_type": "code",
   "execution_count": null,
   "metadata": {},
   "outputs": [],
   "source": [
    "# for i in loaded_model.parameters():\n",
    "#     print(p)"
   ]
  },
  {
   "cell_type": "code",
   "execution_count": null,
   "metadata": {},
   "outputs": [],
   "source": []
  },
  {
   "cell_type": "code",
   "execution_count": 20,
   "metadata": {},
   "outputs": [],
   "source": [
    "!python detect.py --weights ./hub0612best.pt --conf 0.6 --img-size 640 --source $test_img\n",
    "# !python detect.py --weights ./yolov7/h_best.pt --conf 0.6 --img-size 640 --source $test_img"
   ]
  },
  {
   "cell_type": "code",
   "execution_count": 72,
   "metadata": {},
   "outputs": [
    {
     "name": "stdout",
     "output_type": "stream",
     "text": [
      "[[93, 77, 400, 440, 'house'], [95, 107, 397, 261, 'roof'], [143, 307, 216, 430, 'door'], [259, 315, 340, 434, 'door'], [116, 221, 372, 439, 'wall'], [273, 222, 344, 284, 'window'], [148, 227, 218, 283, 'window'], [73, 397, 340, 480, 'grass'], [151, 3, 468, 92, 'smoke'], [145, 1, 476, 189, 'chimney']]\n"
     ]
    }
   ],
   "source": [
    "# bbox 어케 그려보지..?\n",
    "# 한번 수정해보자!\n",
    "# df = results.pandas().xyxy[0]\n",
    "tree = list(df.iloc[0,:-3])\n",
    "home = list(df.iloc[1,:-3])\n",
    "tree\n",
    "home\n",
    "\n",
    "house = []\n",
    "\n",
    "# (bbox 그리기)\n",
    "# 결과의 위치값 추출 \n",
    "for i in range(len(df)):\n",
    "    h_list = []\n",
    "    x,y,w,h = list(df.iloc[i,:-3])\n",
    "    label = df['name'][i]\n",
    "    x=int(x)\n",
    "    y=int(y)\n",
    "    w=int(w)\n",
    "    h=int(h)\n",
    "    h_list.append(x)\n",
    "    h_list.append(y)\n",
    "    h_list.append(w)\n",
    "    h_list.append(h)\n",
    "    h_list.append(label)\n",
    "    house.append(h_list)\n",
    "    \n",
    "print(house)"
   ]
  },
  {
   "cell_type": "code",
   "execution_count": 73,
   "metadata": {},
   "outputs": [
    {
     "name": "stderr",
     "output_type": "stream",
     "text": [
      "C:\\Users\\SMHRD\\AppData\\Local\\Temp\\ipykernel_26176\\4085519867.py:25: DeprecationWarning: getsize is deprecated and will be removed in Pillow 10 (2023-07-01). Use getbbox or getlength instead.\n",
      "  text_width, text_height = imageFont.getsize(label)\n",
      "C:\\Users\\SMHRD\\AppData\\Local\\Temp\\ipykernel_26176\\4085519867.py:13: DeprecationWarning: getsize is deprecated and will be removed in Pillow 10 (2023-07-01). Use getbbox or getlength instead.\n",
      "  text_width, text_height = imageFont.getsize(text)\n"
     ]
    }
   ],
   "source": [
    "from PIL import Image\n",
    "from PIL import ImageDraw\n",
    "from PIL import ImageFont\n",
    "import numpy as np\n",
    "import matplotlib.pyplot as plt\n",
    "\n",
    "# 라벨 붙여서 이미지 띄우기\n",
    "def pil_draw_rect_with_label(image, x, y, w, h, text, font_color=(255, 255, 255)):\n",
    "    draw = ImageDraw.Draw(image)\n",
    "    draw.rectangle((x,y,w,h), outline=(0, 255, 0), width=3)\n",
    "\n",
    "    imageFont = ImageFont.load_default()\n",
    "    text_width, text_height = imageFont.getsize(text) \n",
    "    draw.rectangle(((x, y - text_height), (x + text_width, y)), fill=(0, 0, 255)) #채워진 사각형\n",
    "    draw.text((x, y - text_height), text, font=imageFont, fill=font_color)\n",
    "\n",
    "    return image\n",
    "\n",
    "image = Image.open('./22.png').convert('RGB')\n",
    "\n",
    "for i in range(len(house)):\n",
    "    x,y,w,h,label = house[i]\n",
    "    \n",
    "    imageFont = ImageFont.load_default()\n",
    "    text_width, text_height = imageFont.getsize(label)\n",
    "    # draw.rectangle((x,y,w,h), outline=(0,255,0), width = 3)\n",
    "    pil_draw_rect_with_label(image, x,y,w,h, label)\n",
    "\n",
    "image.show()\n"
   ]
  },
  {
   "cell_type": "code",
   "execution_count": 21,
   "metadata": {},
   "outputs": [
    {
     "name": "stdout",
     "output_type": "stream",
     "text": [
      "c:\\Users\\SMHRD\\Desktop\n",
      "c:\\Users\\SMHRD\\Desktop\\workspace\\fastapi_sub\n"
     ]
    }
   ],
   "source": [
    "%cd ../../\n",
    "\n",
    "# 파일 저장\n",
    "save_file = \"./img1_gray.jpg\"\n",
    "image.save(save_file,\"JPEG\")\n",
    "\n",
    "%cd ./workspace/fastapi_sub"
   ]
  },
  {
   "cell_type": "code",
   "execution_count": null,
   "metadata": {},
   "outputs": [
    {
     "name": "stdout",
     "output_type": "stream",
     "text": [
      "(640, 640)\n"
     ]
    }
   ],
   "source": [
    "from PIL import Image, ImageDraw\n",
    "from PIL import ImageFont\n",
    "\n",
    "# 이미지 사이즈 확인\n",
    "img = Image.open('./2222.jpg').convert('RGB')\n",
    "# img.show()\n",
    "# img_resize = img.resize((640, 640))\n",
    "# print(img_resize.size)\n",
    "print(img.size)\n",
    "\n",
    "draw = ImageDraw.Draw(img)\n",
    "# 바운딩 박스 그려보기\n",
    "# 이미지 크기, 위치값 체크, class 집\n",
    "\n",
    "# 시작 x,y 좌표, 너비,높이 w,h\n",
    "# draw.rectangle((328, 185, 328+261, 185+509), outline=(0,255,0), width = 3)\n",
    "# draw.rectangle((80, 163, 265, 423), outline=(0,255,0), width = 3)\n",
    "# draw.rectangle((432,58,699,336), outline=(0,255,0), width = 3)\n",
    "\n",
    "for i in range(len(house)):\n",
    "    x,y,w,h,label = house[i]\n",
    "    \n",
    "    draw.rectangle((x,y,w,h), outline=(0,255,0), width = 3)\n",
    "\n",
    "img.show()\n"
   ]
  },
  {
   "cell_type": "code",
   "execution_count": 77,
   "metadata": {},
   "outputs": [
    {
     "name": "stdout",
     "output_type": "stream",
     "text": [
      "(1280, 1280)\n"
     ]
    }
   ],
   "source": [
    "from PIL import Image, ImageDraw\n",
    "\n",
    "# 이미지 사이즈 확인\n",
    "img = Image.open('data_h_hub/Training/01.원천데이터/TS_집/집_7_남_00060.jpg').convert('RGB')\n",
    "# img.show()\n",
    "# img_resize = img.resize((640, 640))\n",
    "# print(img_resize.size)\n",
    "print(img.size)\n",
    "\n",
    "draw = ImageDraw.Draw(img)\n",
    "# 바운딩 박스 그려보기\n",
    "# 이미지 크기, 위치값 체크, class 집\n",
    "draw.rectangle((328, 185, 328+261, 185+509), outline=(0,255,0), width = 3)\n",
    "\n",
    "img.show()\n",
    "\n",
    "# 시작 x,y 좌표, 너비,높이 w,h"
   ]
  },
  {
   "cell_type": "code",
   "execution_count": 77,
   "metadata": {},
   "outputs": [
    {
     "name": "stdout",
     "output_type": "stream",
     "text": [
      "c:\\Users\\SMHRD\\Desktop\\workspace\n"
     ]
    }
   ],
   "source": [
    "%cd ./"
   ]
  },
  {
   "cell_type": "code",
   "execution_count": null,
   "metadata": {},
   "outputs": [],
   "source": [
    "import json\n",
    "\n",
    "# 파일명 가져오기, 한줄씩\n",
    "with open('data_h_hub/train.txt', 'r') as file:    # 파일을 읽기 모드(r)로 열기\n",
    "    line = None    # 변수 line을 None으로 초기화\n",
    "    while line != '':\n",
    "        line = file.readline()\n",
    "        h_line = line.strip('\\n')    # 파일에서 읽어온 문자열에서 \\n 삭제하여 출력\n",
    "        # .json 제거\n",
    "        re_txt = h_line.replace('.json', '')\n",
    "        # print(re_txt)\n",
    "        # 파일 명 가져와서 파일 읽기, json파일\n",
    "        with open(f'{h_line}', 'r') as f:\n",
    "            json_data = json.load(f)\n",
    "            # json 파일 \n",
    "            label_info = json_data['annotations']['bbox']\n",
    "            label_n = json_data['meta']['label_path']\n",
    "            label_n = label_n.replace('.json','')\n",
    "            label_n = label_n.replace('./','')\n",
    "            # print(label_n)\n",
    "            # 현재 디렉터리에 텍스트 파일 생성하기. 쓰기모드 열기\n",
    "            f = open(f\".\\\\data_h_hub\\\\train_txt\\\\{label_n}.txt\", 'w')\n",
    "            \n",
    "            size=[1280,1280]\n",
    "            json_len = len(json_data['annotations']['bbox'])\n",
    "            for i in range(json_len):\n",
    "                b = label_info[i]\n",
    "                \n",
    "                b_list = []\n",
    "                label=h_label[b['label']]\n",
    "                b_list.append(b['x'])\n",
    "                b_list.append(b['y'])\n",
    "                b_list.append(b['w'])\n",
    "                b_list.append(b['h'])\n",
    "                # print(h_label[b['label']])\n",
    "                # print(b['x'])\n",
    "                # print(b['y'])\n",
    "                # print(b['w'])\n",
    "                # print(b['h'])\n",
    "                tup = convert(label,size,b_list)\n",
    "                # s = (map(str, tup))\n",
    "                delim = ''\n",
    "                s = delim.join(tup)\n",
    "                # print(s)\n",
    "                # 막 줄이면 줄바꿈 안할거임..\n",
    "                if i != json_len-1:\n",
    "                    s += '\\n'\n",
    "                f.write(s)   # data를 파일에 쓰기\n",
    "\n",
    "            # 뒤에 계속 이어서 써짐.\n",
    "\n",
    "\n",
    "            f.close() # 쓰기모드 닫기"
   ]
  },
  {
   "cell_type": "code",
   "execution_count": null,
   "metadata": {},
   "outputs": [],
   "source": []
  },
  {
   "cell_type": "code",
   "execution_count": 74,
   "metadata": {},
   "outputs": [
    {
     "name": "stdout",
     "output_type": "stream",
     "text": [
      "hello\n"
     ]
    }
   ],
   "source": [
    "print(\"hello\")"
   ]
  },
  {
   "cell_type": "code",
   "execution_count": null,
   "metadata": {},
   "outputs": [],
   "source": [
    "# json 파일 명 가져오기\n",
    "from glob import glob\n",
    "# train_json_list = glob('data_h_hub\\\\Training\\\\02.라벨링데이터\\\\TL_집\\\\*.json')\n",
    "# train_json_list\n",
    "\n",
    "val_json_list = glob('data_h_hub\\\\Validation\\\\02.라벨링데이터\\\\VL_집\\\\*.json')\n",
    "val_json_list\n",
    "\n",
    "# json 경로들을 하나의 파일에 저장\n",
    "# with open('data_h_hub/train.txt', 'w') as f:\n",
    "    # f.write(\"\\n\".join(train_json_list)+ \"\\n\")\n",
    "\n",
    "with open('data_h_hub/valid.txt', 'w') as f:\n",
    "    f.write(\"\\n\".join(val_json_list)+ \"\\n\")"
   ]
  },
  {
   "cell_type": "code",
   "execution_count": null,
   "metadata": {},
   "outputs": [
    {
     "name": "stdout",
     "output_type": "stream",
     "text": [
      "11200\n"
     ]
    }
   ],
   "source": [
    "# j_len = len(train_json_list)\n",
    "j_len = len(val_json_list)\n",
    "cnt = 0\n",
    "# for i in range(j_len):\n",
    "    # with open('data_h_hub/train.txt', 'r') as f:\n",
    "# with open(\"data_h_hub/valid.txt\", 'r') as f:\n",
    "#     for line in f:\n",
    "#         print(line,end='')\n",
    "print(j_len)\n",
    "# 파일명 하나씩 읽어서 출력"
   ]
  },
  {
   "cell_type": "code",
   "execution_count": 35,
   "metadata": {},
   "outputs": [],
   "source": [
    "h_label = {\n",
    "'집전체':0\n",
    ",'지붕':1\n",
    ",'집벽':2\n",
    ",'문':3\n",
    ",'창문':4\n",
    ",'굴뚝':5\n",
    ",'연기':6\n",
    ",'울타리':7\n",
    ",'길':8\n",
    ",'연못':9\n",
    ",'산':10\n",
    ",'나무':11\n",
    ",'꽃':12\n",
    ",'잔디':13\n",
    ",'태양':14\n",
    "}\n",
    "\n",
    "len_h_rand = ['집전체','집전체','집전체','지붕','집벽']\n"
   ]
  },
  {
   "cell_type": "code",
   "execution_count": 36,
   "metadata": {},
   "outputs": [
    {
     "name": "stdout",
     "output_type": "stream",
     "text": [
      "15\n",
      "[3, 1, 1, 0, 0, 0, 0, 0, 0, 0, 0, 0, 0, 0, 0]\n"
     ]
    }
   ],
   "source": [
    "h_label_cnt = [0,0,0,0,0,0,0,0,0,0,0,0,0,0,0]\n",
    "print(len(h_label_cnt))\n",
    "\n",
    "for i in len_h_rand:\n",
    "    h_label_cnt[h_label[i]] += 1\n",
    "# h_label_cnt[h_label['집전체']]+= 10\n",
    "print(h_label_cnt)\n",
    "\n",
    "\n",
    "a = ['집전체', '지붕', '집벽', '문', '창문', '굴뚝', '연기', '울타리', '길', '연못', '산', '나무', '꽃', '잔디', '태양']\n",
    "# train house label cnt\n",
    "# [11201, 11313, 11321, 11426, 18978, 11229, 11229, 16455, 11632, 11272, 13038, 13655, 23644, 45601, 11215]\n",
    "\n",
    "# valid house label cnt\n",
    "# [1401, 1417, 1420, 1425, 2434, 1405, 1406, 2044, 1443, 1407, 1651, 1695, 2922, 5811, 1404]\n",
    "\n"
   ]
  },
  {
   "cell_type": "code",
   "execution_count": 45,
   "metadata": {},
   "outputs": [
    {
     "name": "stdout",
     "output_type": "stream",
     "text": [
      "[1401, 1417, 1420, 1425, 2434, 1405, 1406, 2044, 1443, 1407, 1651, 1695, 2922, 5811, 1404]\n"
     ]
    }
   ],
   "source": [
    "print(h_label_cnt)"
   ]
  },
  {
   "cell_type": "code",
   "execution_count": 83,
   "metadata": {},
   "outputs": [
    {
     "name": "stdout",
     "output_type": "stream",
     "text": [
      "[1, 1, 1, 1, 1, 1, 1, 1, 1, 1, 1, 1, 2, 8, 1]\n"
     ]
    }
   ],
   "source": [
    "print(a['shape_description']['num_obj'])"
   ]
  },
  {
   "cell_type": "code",
   "execution_count": null,
   "metadata": {},
   "outputs": [],
   "source": []
  },
  {
   "cell_type": "code",
   "execution_count": 32,
   "metadata": {},
   "outputs": [],
   "source": []
  },
  {
   "cell_type": "code",
   "execution_count": null,
   "metadata": {},
   "outputs": [
    {
     "ename": "FileNotFoundError",
     "evalue": "[Errno 2] No such file or directory: ''",
     "output_type": "error",
     "traceback": [
      "\u001b[1;31m---------------------------------------------------------------------------\u001b[0m",
      "\u001b[1;31mFileNotFoundError\u001b[0m                         Traceback (most recent call last)",
      "Cell \u001b[1;32mIn[18], line 11\u001b[0m\n\u001b[0;32m      9\u001b[0m re_txt \u001b[39m=\u001b[39m h_line\u001b[39m.\u001b[39mreplace(\u001b[39m'\u001b[39m\u001b[39m.json\u001b[39m\u001b[39m'\u001b[39m, \u001b[39m'\u001b[39m\u001b[39m'\u001b[39m)\n\u001b[0;32m     10\u001b[0m \u001b[39m# print(re_txt)\u001b[39;00m\n\u001b[1;32m---> 11\u001b[0m \u001b[39mwith\u001b[39;00m \u001b[39mopen\u001b[39;49m(\u001b[39mf\u001b[39;49m\u001b[39m'\u001b[39;49m\u001b[39m{\u001b[39;49;00mh_line\u001b[39m}\u001b[39;49;00m\u001b[39m'\u001b[39;49m, \u001b[39m'\u001b[39;49m\u001b[39mr\u001b[39;49m\u001b[39m'\u001b[39;49m) \u001b[39mas\u001b[39;00m f:\n\u001b[0;32m     12\u001b[0m     json_data \u001b[39m=\u001b[39m json\u001b[39m.\u001b[39mload(f)\n\u001b[0;32m     13\u001b[0m     label_info \u001b[39m=\u001b[39m json_data[\u001b[39m'\u001b[39m\u001b[39mannotations\u001b[39m\u001b[39m'\u001b[39m][\u001b[39m'\u001b[39m\u001b[39mbbox\u001b[39m\u001b[39m'\u001b[39m]\n",
      "File \u001b[1;32mc:\\Users\\SMHRD\\anaconda3\\lib\\site-packages\\IPython\\core\\interactiveshell.py:282\u001b[0m, in \u001b[0;36m_modified_open\u001b[1;34m(file, *args, **kwargs)\u001b[0m\n\u001b[0;32m    275\u001b[0m \u001b[39mif\u001b[39;00m file \u001b[39min\u001b[39;00m {\u001b[39m0\u001b[39m, \u001b[39m1\u001b[39m, \u001b[39m2\u001b[39m}:\n\u001b[0;32m    276\u001b[0m     \u001b[39mraise\u001b[39;00m \u001b[39mValueError\u001b[39;00m(\n\u001b[0;32m    277\u001b[0m         \u001b[39mf\u001b[39m\u001b[39m\"\u001b[39m\u001b[39mIPython won\u001b[39m\u001b[39m'\u001b[39m\u001b[39mt let you open fd=\u001b[39m\u001b[39m{\u001b[39;00mfile\u001b[39m}\u001b[39;00m\u001b[39m by default \u001b[39m\u001b[39m\"\u001b[39m\n\u001b[0;32m    278\u001b[0m         \u001b[39m\"\u001b[39m\u001b[39mas it is likely to crash IPython. If you know what you are doing, \u001b[39m\u001b[39m\"\u001b[39m\n\u001b[0;32m    279\u001b[0m         \u001b[39m\"\u001b[39m\u001b[39myou can use builtins\u001b[39m\u001b[39m'\u001b[39m\u001b[39m open.\u001b[39m\u001b[39m\"\u001b[39m\n\u001b[0;32m    280\u001b[0m     )\n\u001b[1;32m--> 282\u001b[0m \u001b[39mreturn\u001b[39;00m io_open(file, \u001b[39m*\u001b[39margs, \u001b[39m*\u001b[39m\u001b[39m*\u001b[39mkwargs)\n",
      "\u001b[1;31mFileNotFoundError\u001b[0m: [Errno 2] No such file or directory: ''"
     ]
    }
   ],
   "source": [
    "import json\n",
    "\n",
    "# 파일명 가져오기, 한줄씩\n",
    "with open('data_h_hub/train.txt', 'r') as file:    # 파일을 읽기 모드(r)로 열기\n",
    "    line = None    # 변수 line을 None으로 초기화\n",
    "    while line != '':\n",
    "        line = file.readline()\n",
    "        h_line = line.strip('\\n')    # 파일에서 읽어온 문자열에서 \\n 삭제하여 출력\n",
    "        # .json 제거\n",
    "        re_txt = h_line.replace('.json', '')\n",
    "        # print(re_txt)\n",
    "        # 파일 명 가져와서 파일 읽기, json파일\n",
    "        with open(f'{h_line}', 'r') as f:\n",
    "            json_data = json.load(f)\n",
    "            # json 파일 \n",
    "            label_info = json_data['annotations']['bbox']\n",
    "            label_n = json_data['meta']['label_path']\n",
    "            label_n = label_n.replace('.json','')\n",
    "            label_n = label_n.replace('./','')\n",
    "            # print(label_n)\n",
    "            # 현재 디렉터리에 텍스트 파일 생성하기. 쓰기모드 열기\n",
    "            f = open(f\".\\\\data_h_hub\\\\train_txt\\\\{label_n}.txt\", 'w')\n",
    "            \n",
    "            size=[1280,1280]\n",
    "            json_len = len(json_data['annotations']['bbox'])\n",
    "            for i in range(json_len):\n",
    "                b = label_info[i]\n",
    "                \n",
    "                b_list = []\n",
    "                label=h_label[b['label']]\n",
    "                b_list.append(b['x'])\n",
    "                b_list.append(b['y'])\n",
    "                b_list.append(b['w'])\n",
    "                b_list.append(b['h'])\n",
    "                # print(h_label[b['label']])\n",
    "                # print(b['x'])\n",
    "                # print(b['y'])\n",
    "                # print(b['w'])\n",
    "                # print(b['h'])\n",
    "                tup = convert(label,size,b_list)\n",
    "                # s = (map(str, tup))\n",
    "                delim = ''\n",
    "                s = delim.join(tup)\n",
    "                # print(s)\n",
    "                # 막 줄이면 줄바꿈 안할거임..\n",
    "                if i != json_len-1:\n",
    "                    s += '\\n'\n",
    "                f.write(s)   # data를 파일에 쓰기\n",
    "\n",
    "            # 뒤에 계속 이어서 써짐.\n",
    "\n",
    "\n",
    "            f.close() # 쓰기모드 닫기"
   ]
  },
  {
   "cell_type": "code",
   "execution_count": null,
   "metadata": {},
   "outputs": [],
   "source": []
  },
  {
   "cell_type": "code",
   "execution_count": 7,
   "metadata": {},
   "outputs": [
    {
     "ename": "FileNotFoundError",
     "evalue": "[Errno 2] No such file or directory: ''",
     "output_type": "error",
     "traceback": [
      "\u001b[1;31m---------------------------------------------------------------------------\u001b[0m",
      "\u001b[1;31mFileNotFoundError\u001b[0m                         Traceback (most recent call last)",
      "Cell \u001b[1;32mIn[7], line 11\u001b[0m\n\u001b[0;32m      9\u001b[0m re_txt \u001b[39m=\u001b[39m h_line\u001b[39m.\u001b[39mreplace(\u001b[39m'\u001b[39m\u001b[39m.json\u001b[39m\u001b[39m'\u001b[39m, \u001b[39m'\u001b[39m\u001b[39m'\u001b[39m)\n\u001b[0;32m     10\u001b[0m \u001b[39m# print(re_txt)\u001b[39;00m\n\u001b[1;32m---> 11\u001b[0m \u001b[39mwith\u001b[39;00m \u001b[39mopen\u001b[39;49m(\u001b[39mf\u001b[39;49m\u001b[39m'\u001b[39;49m\u001b[39m{\u001b[39;49;00mh_line\u001b[39m}\u001b[39;49;00m\u001b[39m'\u001b[39;49m, \u001b[39m'\u001b[39;49m\u001b[39mr\u001b[39;49m\u001b[39m'\u001b[39;49m) \u001b[39mas\u001b[39;00m f:\n\u001b[0;32m     12\u001b[0m     json_data \u001b[39m=\u001b[39m json\u001b[39m.\u001b[39mload(f)\n\u001b[0;32m     13\u001b[0m     label_info \u001b[39m=\u001b[39m json_data[\u001b[39m'\u001b[39m\u001b[39mannotations\u001b[39m\u001b[39m'\u001b[39m][\u001b[39m'\u001b[39m\u001b[39mbbox\u001b[39m\u001b[39m'\u001b[39m]\n",
      "File \u001b[1;32mc:\\Users\\SMHRD\\anaconda3\\lib\\site-packages\\IPython\\core\\interactiveshell.py:282\u001b[0m, in \u001b[0;36m_modified_open\u001b[1;34m(file, *args, **kwargs)\u001b[0m\n\u001b[0;32m    275\u001b[0m \u001b[39mif\u001b[39;00m file \u001b[39min\u001b[39;00m {\u001b[39m0\u001b[39m, \u001b[39m1\u001b[39m, \u001b[39m2\u001b[39m}:\n\u001b[0;32m    276\u001b[0m     \u001b[39mraise\u001b[39;00m \u001b[39mValueError\u001b[39;00m(\n\u001b[0;32m    277\u001b[0m         \u001b[39mf\u001b[39m\u001b[39m\"\u001b[39m\u001b[39mIPython won\u001b[39m\u001b[39m'\u001b[39m\u001b[39mt let you open fd=\u001b[39m\u001b[39m{\u001b[39;00mfile\u001b[39m}\u001b[39;00m\u001b[39m by default \u001b[39m\u001b[39m\"\u001b[39m\n\u001b[0;32m    278\u001b[0m         \u001b[39m\"\u001b[39m\u001b[39mas it is likely to crash IPython. If you know what you are doing, \u001b[39m\u001b[39m\"\u001b[39m\n\u001b[0;32m    279\u001b[0m         \u001b[39m\"\u001b[39m\u001b[39myou can use builtins\u001b[39m\u001b[39m'\u001b[39m\u001b[39m open.\u001b[39m\u001b[39m\"\u001b[39m\n\u001b[0;32m    280\u001b[0m     )\n\u001b[1;32m--> 282\u001b[0m \u001b[39mreturn\u001b[39;00m io_open(file, \u001b[39m*\u001b[39margs, \u001b[39m*\u001b[39m\u001b[39m*\u001b[39mkwargs)\n",
      "\u001b[1;31mFileNotFoundError\u001b[0m: [Errno 2] No such file or directory: ''"
     ]
    }
   ],
   "source": [
    "import json\n",
    "\n",
    "with open('data_h_hub/val.txt', 'r') as file:    # 파일을 읽기 모드(r)로 열기\n",
    "    line = None    # 변수 line을 None으로 초기화\n",
    "    while line != '':\n",
    "        line = file.readline()\n",
    "        h_line = line.strip('\\n')    # 파일에서 읽어온 문자열에서 \\n 삭제하여 출력\n",
    "        # .json 제거\n",
    "        re_txt = h_line.replace('.json', '')\n",
    "        # print(re_txt)\n",
    "        with open(f'{h_line}', 'r') as f:\n",
    "            json_data = json.load(f)\n",
    "            label_info = json_data['annotations']['bbox']\n",
    "            label_n = json_data['meta']['label_path']\n",
    "            label_n = label_n.replace('.json','')\n",
    "            label_n = label_n.replace('./','')\n",
    "            # print(label_n)\n",
    "            # 현재 디렉터리에 텍스트 파일 생성하기. 쓰기모드 열기\n",
    "            f = open(f\".\\\\data_h_hub\\\\valid_txt\\\\{label_n}.txt\", 'w')\n",
    "            \n",
    "            size=[1280,1280]\n",
    "            json_len = len(json_data['annotations']['bbox'])\n",
    "            for i in range(json_len):\n",
    "                b = label_info[i]\n",
    "                \n",
    "                b_list = []\n",
    "                label=h_label[b['label']]\n",
    "                b_list.append(b['x'])\n",
    "                b_list.append(b['y'])\n",
    "                b_list.append(b['w'])\n",
    "                b_list.append(b['h'])\n",
    "                # print(h_label[b['label']])\n",
    "                # print(b['x'])\n",
    "                # print(b['y'])\n",
    "                # print(b['w'])\n",
    "                # print(b['h'])\n",
    "                tup = convert(label,size,b_list)\n",
    "                # s = (map(str, tup))\n",
    "                delim = ''\n",
    "                s = delim.join(tup)\n",
    "                # print(s)\n",
    "                # 막 줄이면 줄바꿈 안할거임..\n",
    "                if i != json_len-1:\n",
    "                    s += '\\n'\n",
    "                f.write(s)   # data를 파일에 쓰기\n",
    "\n",
    "            # 뒤에 계속 이어서 써짐.\n",
    "\n",
    "\n",
    "            # f.close() # 쓰기모드 닫기"
   ]
  },
  {
   "cell_type": "code",
   "execution_count": 16,
   "metadata": {},
   "outputs": [
    {
     "ename": "TypeError",
     "evalue": "list indices must be integers or slices, not str",
     "output_type": "error",
     "traceback": [
      "\u001b[1;31m---------------------------------------------------------------------------\u001b[0m",
      "\u001b[1;31mTypeError\u001b[0m                                 Traceback (most recent call last)",
      "Cell \u001b[1;32mIn[16], line 8\u001b[0m\n\u001b[0;32m      6\u001b[0m size\u001b[39m=\u001b[39m[\u001b[39m1280\u001b[39m,\u001b[39m1280\u001b[39m]\n\u001b[0;32m      7\u001b[0m \u001b[39m# size=[680,680]\u001b[39;00m\n\u001b[1;32m----> 8\u001b[0m a_len \u001b[39m=\u001b[39m \u001b[39mlen\u001b[39m(a[\u001b[39m'\u001b[39;49m\u001b[39mannotations\u001b[39;49m\u001b[39m'\u001b[39;49m][\u001b[39m'\u001b[39m\u001b[39mbbox\u001b[39m\u001b[39m'\u001b[39m])\n\u001b[0;32m      9\u001b[0m \u001b[39m# print(len(a['annotations']['bbox']))\u001b[39;00m\n\u001b[0;32m     10\u001b[0m \u001b[39mfor\u001b[39;00m i \u001b[39min\u001b[39;00m \u001b[39mrange\u001b[39m(a_len):\n",
      "\u001b[1;31mTypeError\u001b[0m: list indices must be integers or slices, not str"
     ]
    }
   ],
   "source": [
    "from functools import reduce\n",
    "\n",
    "# 현재 디렉터리에 텍스트 파일 생성하기. 쓰기모드 열기\n",
    "f = open(\"newfile.txt\", 'w')\n",
    "\n",
    "size=[1280,1280]\n",
    "# size=[680,680]\n",
    "a_len = len(a['annotations']['bbox'])\n",
    "# print(len(a['annotations']['bbox']))\n",
    "for i in range(a_len):\n",
    "    b= a['annotations']['bbox'][i]\n",
    "    b_list = []\n",
    "    # print(h_label[b['label']])\n",
    "    label=h_label[b['label']]\n",
    "    b_list.append(b['x'])\n",
    "    b_list.append(b['y'])\n",
    "    b_list.append(b['w'])\n",
    "    b_list.append(b['h'])\n",
    "    # print(b['x'])\n",
    "    # print(b['y'])\n",
    "    # print(b['w'])\n",
    "    # print(b['h'])\n",
    "    tup = convert(label,size,b_list)\n",
    "    # s = (map(str, tup))\n",
    "    delim = ''\n",
    "    s = delim.join(tup)\n",
    "    # print(s)\n",
    "    # 막 줄이면 줄바꿈 안할거임..\n",
    "    if i != a_len-1:\n",
    "        s += '\\n'\n",
    "    f.write(s)   # data를 파일에 쓰기\n",
    "\n",
    "# 뒤에 계속 이어서 써짐.\n",
    "\n",
    "\n",
    "f.close() # 쓰기모드 닫기"
   ]
  },
  {
   "cell_type": "code",
   "execution_count": 6,
   "metadata": {},
   "outputs": [],
   "source": [
    "\n",
    "def convert(label, size, box): #box: coco형식 xmin , ymin , w , h\n",
    "    dw = 1/size[0]\n",
    "    dh = 1/size[1]\n",
    "    w = box[2]\n",
    "    h = box[3]\n",
    "    x = box[0]+ w/2\n",
    "    y = box[1]+ h/2\n",
    "    x = round(x*dw,6)\n",
    "    w = round(w*dw,6)\n",
    "    y = round(y*dh,6)\n",
    "    h = round(h*dh,6)\n",
    "    if w <0 or h < 0:\n",
    "        return False\n",
    "    # print(label,x,y,w,h)\n",
    "    return (str(label),' ',str(x),' ',str(y),' ',str(w),' ',str(h))\n",
    "\n",
    "\n",
    "\n",
    "# size=[640,640]\n",
    "# a_len = len(a['annotations']['bbox'])\n",
    "# # print(len(a['annotations']['bbox']))\n",
    "# for i in range(a_len):\n",
    "#     b= a['annotations']['bbox'][i]\n",
    "#     b_list = []\n",
    "#     # print(h_label[b['label']])\n",
    "#     label=h_label[b['label']]\n",
    "#     b_list.append(b['x'])\n",
    "#     b_list.append(b['y'])\n",
    "#     b_list.append(b['w'])\n",
    "#     b_list.append(b['h'])\n",
    "#     # print(b['x'])\n",
    "#     # print(b['y'])\n",
    "#     # print(b['w'])\n",
    "#     # print(b['h'])\n",
    "#     convert(label,size,b_list)\n",
    "    "
   ]
  },
  {
   "cell_type": "code",
   "execution_count": 5,
   "metadata": {},
   "outputs": [],
   "source": [
    "h_label = {\n",
    "'집전체':0\n",
    ",'지붕':1\n",
    ",'집벽':2\n",
    ",'문':3\n",
    ",'창문':4\n",
    ",'굴뚝':5\n",
    ",'연기':6\n",
    ",'울타리':7\n",
    ",'길':8\n",
    ",'연못':9\n",
    ",'산':10\n",
    ",'나무':11\n",
    ",'꽃':12\n",
    ",'잔디':13\n",
    ",'태양':14\n",
    "}"
   ]
  },
  {
   "cell_type": "code",
   "execution_count": 1,
   "metadata": {},
   "outputs": [
    {
     "name": "stdout",
     "output_type": "stream",
     "text": [
      "15\n"
     ]
    }
   ],
   "source": [
    "a = ['집전체'\n",
    ",'지붕'\n",
    ",'집벽'\n",
    ",'문'\n",
    ",'창문'\n",
    ",'굴뚝'\n",
    ",'연기'\n",
    ",'울타리'\n",
    ",'길'\n",
    ",'연못'\n",
    ",'산'\n",
    ",'나무'\n",
    ",'꽃'\n",
    ",'잔디'\n",
    ",'태양']\n",
    "print(len(a))"
   ]
  },
  {
   "cell_type": "code",
   "execution_count": 2,
   "metadata": {},
   "outputs": [
    {
     "name": "stdout",
     "output_type": "stream",
     "text": [
      "power mode\n"
     ]
    }
   ],
   "source": [
    "print(\"power mode\")"
   ]
  },
  {
   "cell_type": "code",
   "execution_count": null,
   "metadata": {},
   "outputs": [],
   "source": []
  },
  {
   "cell_type": "code",
   "execution_count": 85,
   "metadata": {},
   "outputs": [
    {
     "data": {
      "text/plain": [
       "[1, 1, 1, 1, 1, 1, 1, 1, 1, 1, 1, 1, 2, 8, 1]"
      ]
     },
     "execution_count": 85,
     "metadata": {},
     "output_type": "execute_result"
    }
   ],
   "source": [
    "a['shape_description']['num_obj']"
   ]
  },
  {
   "cell_type": "code",
   "execution_count": 84,
   "metadata": {},
   "outputs": [],
   "source": [
    "a={\n",
    "    \"meta\": {\n",
    "        \"img_id\": \"집_7_남_A066_jtg_20220902_16505080_1332\",\n",
    "        \"contributor\": \"A066\",\n",
    "        \"date_created\": \"2022-09-21\",\n",
    "        \"img_path\": \"../../원천데이터/집/집_7_남_00060.jpg\",\n",
    "        \"label_path\": \"./집_7_남_00060.json\",\n",
    "        \"img_size\": 102509,\n",
    "        \"img_resolution\": \"1280x1280\",\n",
    "        \"age\": 7,\n",
    "        \"sex\": \"남\"\n",
    "    },\n",
    "    \"annotations\": {\n",
    "        \"anno_id\": \"u6yv3y09txmv8hl8iflmf\",\n",
    "        \"class\": \"집\",\n",
    "        \"bbox_count\": 23,\n",
    "        \"bbox\": [\n",
    "            {\n",
    "                \"label\": \"집전체\",\n",
    "                \"x\": 328,\n",
    "                \"y\": 185,\n",
    "                \"w\": 261,\n",
    "                \"h\": 509\n",
    "            },\n",
    "            {\n",
    "                \"label\": \"지붕\",\n",
    "                \"x\": 323,\n",
    "                \"y\": 190,\n",
    "                \"w\": 295,\n",
    "                \"h\": 314\n",
    "            },\n",
    "            {\n",
    "                \"label\": \"집벽\",\n",
    "                \"x\": 327,\n",
    "                \"y\": 502,\n",
    "                \"w\": 261,\n",
    "                \"h\": 191\n",
    "            },\n",
    "            {\n",
    "                \"label\": \"문\",\n",
    "                \"x\": 484,\n",
    "                \"y\": 600,\n",
    "                \"w\": 54,\n",
    "                \"h\": 98\n",
    "            },\n",
    "            {\n",
    "                \"label\": \"창문\",\n",
    "                \"x\": 377,\n",
    "                \"y\": 511,\n",
    "                \"w\": 93,\n",
    "                \"h\": 78\n",
    "            },\n",
    "            {\n",
    "                \"label\": \"굴뚝\",\n",
    "                \"x\": 347,\n",
    "                \"y\": 16,\n",
    "                \"w\": 125,\n",
    "                \"h\": 315\n",
    "            },\n",
    "            {\n",
    "                \"label\": \"연기\",\n",
    "                \"x\": 350,\n",
    "                \"y\": 16,\n",
    "                \"w\": 118,\n",
    "                \"h\": 224\n",
    "            },\n",
    "            {\n",
    "                \"label\": \"울타리\",\n",
    "                \"x\": 227,\n",
    "                \"y\": 239,\n",
    "                \"w\": 590,\n",
    "                \"h\": 592\n",
    "            },\n",
    "            {\n",
    "                \"label\": \"길\",\n",
    "                \"x\": 476,\n",
    "                \"y\": 263,\n",
    "                \"w\": 233,\n",
    "                \"h\": 507\n",
    "            },\n",
    "            {\n",
    "                \"label\": \"연못\",\n",
    "                \"x\": 852,\n",
    "                \"y\": 511,\n",
    "                \"w\": 428,\n",
    "                \"h\": 769\n",
    "            },\n",
    "            {\n",
    "                \"label\": \"산\",\n",
    "                \"x\": 844,\n",
    "                \"y\": 210,\n",
    "                \"w\": 436,\n",
    "                \"h\": 358\n",
    "            },\n",
    "            {\n",
    "                \"label\": \"나무\",\n",
    "                \"x\": 3,\n",
    "                \"y\": 4,\n",
    "                \"w\": 250,\n",
    "                \"h\": 412\n",
    "            },\n",
    "            {\n",
    "                \"label\": \"꽃\",\n",
    "                \"x\": 409,\n",
    "                \"y\": 846,\n",
    "                \"w\": 93,\n",
    "                \"h\": 222\n",
    "            },\n",
    "            {\n",
    "                \"label\": \"꽃\",\n",
    "                \"x\": 554,\n",
    "                \"y\": 914,\n",
    "                \"w\": 105,\n",
    "                \"h\": 238\n",
    "            },\n",
    "            {\n",
    "                \"label\": \"잔디\",\n",
    "                \"x\": 58,\n",
    "                \"y\": 471,\n",
    "                \"w\": 157,\n",
    "                \"h\": 73\n",
    "            },\n",
    "            {\n",
    "                \"label\": \"잔디\",\n",
    "                \"x\": 66,\n",
    "                \"y\": 637,\n",
    "                \"w\": 167,\n",
    "                \"h\": 70\n",
    "            },\n",
    "            {\n",
    "                \"label\": \"잔디\",\n",
    "                \"x\": 67,\n",
    "                \"y\": 834,\n",
    "                \"w\": 240,\n",
    "                \"h\": 90\n",
    "            },\n",
    "            {\n",
    "                \"label\": \"잔디\",\n",
    "                \"x\": 164,\n",
    "                \"y\": 1005,\n",
    "                \"w\": 220,\n",
    "                \"h\": 75\n",
    "            },\n",
    "            {\n",
    "                \"label\": \"잔디\",\n",
    "                \"x\": 283,\n",
    "                \"y\": 1085,\n",
    "                \"w\": 195,\n",
    "                \"h\": 84\n",
    "            },\n",
    "            {\n",
    "                \"label\": \"잔디\",\n",
    "                \"x\": 508,\n",
    "                \"y\": 1158,\n",
    "                \"w\": 236,\n",
    "                \"h\": 66\n",
    "            },\n",
    "            {\n",
    "                \"label\": \"잔디\",\n",
    "                \"x\": 663,\n",
    "                \"y\": 1018,\n",
    "                \"w\": 154,\n",
    "                \"h\": 69\n",
    "            },\n",
    "            {\n",
    "                \"label\": \"잔디\",\n",
    "                \"x\": 607,\n",
    "                \"y\": 833,\n",
    "                \"w\": 190,\n",
    "                \"h\": 59\n",
    "            },\n",
    "            {\n",
    "                \"label\": \"태양\",\n",
    "                \"x\": 1103,\n",
    "                \"y\": 0,\n",
    "                \"w\": 177,\n",
    "                \"h\": 247\n",
    "            }\n",
    "        ]\n",
    "    },\n",
    "    \"shape_description\": {\n",
    "        \"prop_obj_img\": [\n",
    "            [\n",
    "                0.0810845947265625\n",
    "            ],\n",
    "            [\n",
    "                0.056536865234375\n",
    "            ],\n",
    "            [\n",
    "                0.0304266357421875\n",
    "            ],\n",
    "            [\n",
    "                0.00322998046875\n",
    "            ],\n",
    "            [\n",
    "                0.004427490234375\n",
    "            ],\n",
    "            [\n",
    "                0.0240325927734375\n",
    "            ],\n",
    "            [\n",
    "                0.0161328125\n",
    "            ],\n",
    "            [\n",
    "                0.21318359375\n",
    "            ],\n",
    "            [\n",
    "                0.0721014404296875\n",
    "            ],\n",
    "            [\n",
    "                0.20088623046875\n",
    "            ],\n",
    "            [\n",
    "                0.0952685546875\n",
    "            ],\n",
    "            [\n",
    "                0.0628662109375\n",
    "            ],\n",
    "            [\n",
    "                0.012601318359375,\n",
    "                0.015252685546875\n",
    "            ],\n",
    "            [\n",
    "                0.0069952392578125,\n",
    "                0.007135009765625,\n",
    "                0.01318359375,\n",
    "                0.01007080078125,\n",
    "                0.00999755859375,\n",
    "                0.0095068359375,\n",
    "                0.006485595703125,\n",
    "                0.006842041015625\n",
    "            ],\n",
    "            [\n",
    "                0.0266839599609375\n",
    "            ]\n",
    "        ],\n",
    "        \"prop_obj_cls\": [\n",
    "            [\n",
    "                1.0\n",
    "            ],\n",
    "            [\n",
    "                0.6972577889182455\n",
    "            ],\n",
    "            [\n",
    "                0.37524557956778\n",
    "            ],\n",
    "            [\n",
    "                0.039834699546101214\n",
    "            ],\n",
    "            [\n",
    "                0.05460334665673058\n",
    "            ],\n",
    "            [\n",
    "                0.29638913352753876\n",
    "            ],\n",
    "            [\n",
    "                0.19896273212444204\n",
    "            ],\n",
    "            [\n",
    "                2.6291503887872696\n",
    "            ],\n",
    "            [\n",
    "                0.8892125646410587\n",
    "            ],\n",
    "            [\n",
    "                2.4774894805380545\n",
    "            ],\n",
    "            [\n",
    "                1.174927925690069\n",
    "            ],\n",
    "            [\n",
    "                0.7753163365926729\n",
    "            ],\n",
    "            [\n",
    "                0.15540952509992548,\n",
    "                0.18810830341214463\n",
    "            ],\n",
    "            [\n",
    "                0.08627087896785071,\n",
    "                0.08799464053173152,\n",
    "                0.16259061039224984,\n",
    "                0.12420116071630197,\n",
    "                0.12329787954745614,\n",
    "                0.11724589571618906,\n",
    "                0.07998554750129847,\n",
    "                0.08438151585634819\n",
    "            ],\n",
    "            [\n",
    "                0.32908791183975794\n",
    "            ]\n",
    "        ],\n",
    "        \"num_obj\": [\n",
    "            1,\n",
    "            1,\n",
    "            1,\n",
    "            1,\n",
    "            1,\n",
    "            1,\n",
    "            1,\n",
    "            1,\n",
    "            1,\n",
    "            1,\n",
    "            1,\n",
    "            1,\n",
    "            2,\n",
    "            8,\n",
    "            1\n",
    "        ],\n",
    "        \"centroid_cls\": [\n",
    "            0.35840834377011815,\n",
    "            0.3434675677301604\n",
    "        ]\n",
    "    }\n",
    "}"
   ]
  },
  {
   "cell_type": "code",
   "execution_count": null,
   "metadata": {},
   "outputs": [],
   "source": []
  },
  {
   "cell_type": "code",
   "execution_count": null,
   "metadata": {},
   "outputs": [],
   "source": []
  },
  {
   "cell_type": "code",
   "execution_count": null,
   "metadata": {},
   "outputs": [],
   "source": []
  },
  {
   "cell_type": "code",
   "execution_count": null,
   "metadata": {},
   "outputs": [],
   "source": []
  },
  {
   "cell_type": "code",
   "execution_count": 17,
   "metadata": {},
   "outputs": [
    {
     "name": "stdout",
     "output_type": "stream",
     "text": [
      "1.23.5\n"
     ]
    }
   ],
   "source": [
    "import numpy as np\n",
    "\n",
    "\n",
    "print(np.__version__)\n",
    "# 1.21.6"
   ]
  }
 ],
 "metadata": {
  "kernelspec": {
   "display_name": "base",
   "language": "python",
   "name": "python3"
  },
  "language_info": {
   "codemirror_mode": {
    "name": "ipython",
    "version": 3
   },
   "file_extension": ".py",
   "mimetype": "text/x-python",
   "name": "python",
   "nbconvert_exporter": "python",
   "pygments_lexer": "ipython3",
   "version": "3.8.16"
  },
  "orig_nbformat": 4
 },
 "nbformat": 4,
 "nbformat_minor": 2
}
